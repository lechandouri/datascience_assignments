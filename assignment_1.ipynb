{
 "metadata": {
  "language_info": {
   "codemirror_mode": {
    "name": "ipython",
    "version": 3
   },
   "file_extension": ".py",
   "mimetype": "text/x-python",
   "name": "python",
   "nbconvert_exporter": "python",
   "pygments_lexer": "ipython3",
   "version": "3.9.0-final"
  },
  "orig_nbformat": 2,
  "kernelspec": {
   "name": "python3",
   "display_name": "Python 3.9.0 64-bit",
   "metadata": {
    "interpreter": {
     "hash": "153c38716770958fb868dbcd4f44646c27e4e98dff538d256508f91d2c37c04f"
    }
   }
  }
 },
 "nbformat": 4,
 "nbformat_minor": 2,
 "cells": [
  {
   "cell_type": "code",
   "execution_count": 1,
   "metadata": {},
   "outputs": [],
   "source": [
    "import numpy as np\n",
    "import sklearn\n",
    "from sklearn import datasets\n",
    "import pandas as pd\n",
    "import seaborn as sn\n",
    "import matplotlib.pyplot as plt"
   ]
  },
  {
   "source": [
    "### The aim of this assignment is to predict auto insurance pricing using ML algorithms"
   ],
   "cell_type": "markdown",
   "metadata": {}
  },
  {
   "cell_type": "code",
   "execution_count": 10,
   "metadata": {},
   "outputs": [],
   "source": [
    "data_train_insurance = pd.read_csv('data_train_insurance.csv',sep=';')"
   ]
  },
  {
   "cell_type": "code",
   "execution_count": 11,
   "metadata": {},
   "outputs": [
    {
     "output_type": "execute_result",
     "data": {
      "text/plain": [
       "        Id  Response_Market_Index PROD_Formula  PER_sex  \\\n",
       "0  1638099                  435.0        BASIC        2   \n",
       "1  1657342                  609.0         FULL        1   \n",
       "2  1657529                  609.0         FULL        1   \n",
       "3  1662071                  404.0         FULL        1   \n",
       "4  1662074                  404.0         FULL        1   \n",
       "\n",
       "   PER_Sex_Second_Driver  VEH_Actual_Value CLA_HISTORY CLA_HISTORY_1Y  \\\n",
       "0                      0              4600           1              1   \n",
       "1                      0             68315           1              1   \n",
       "2                      0             68315           1              1   \n",
       "3                      2             11005           1              1   \n",
       "4                      2             11005           1              1   \n",
       "\n",
       "  CLA_HISTORY_3Y CLA_BM_TPL_DECLARED  ... VEH_pw_proportion  \\\n",
       "0              1                   1  ...                59   \n",
       "1              1                   2  ...               106   \n",
       "2              1                   2  ...               106   \n",
       "3              1                   2  ...                51   \n",
       "4              1                   2  ...                51   \n",
       "\n",
       "  VEH_High_Risk_Vehicle PER_previous_insurer PER_Is_second_driver  \\\n",
       "0                     2                    5                    1   \n",
       "1                     2                   17                    1   \n",
       "2                     2                   17                    1   \n",
       "3                     2                    6                    2   \n",
       "4                     2                    6                    2   \n",
       "\n",
       "  PER_Age_oldest_child PER_Second_Driver_Age PER_Insured_Before VEH_Weight  \\\n",
       "0                  -99                    -1                  2       1125   \n",
       "1                    2                    -1                  2       1510   \n",
       "2                    2                    -1                  2       1510   \n",
       "3                    1                    31                  2       1170   \n",
       "4                    1                    31                  2       1170   \n",
       "\n",
       "    GEO_Lat  GEO_Long  \n",
       "0 -1.790876 -0.431147  \n",
       "1  1.675824 -4.431147  \n",
       "2  1.675824 -4.431147  \n",
       "3 -0.440876  1.285553  \n",
       "4 -0.440876  1.285553  \n",
       "\n",
       "[5 rows x 40 columns]"
      ],
      "text/html": "<div>\n<style scoped>\n    .dataframe tbody tr th:only-of-type {\n        vertical-align: middle;\n    }\n\n    .dataframe tbody tr th {\n        vertical-align: top;\n    }\n\n    .dataframe thead th {\n        text-align: right;\n    }\n</style>\n<table border=\"1\" class=\"dataframe\">\n  <thead>\n    <tr style=\"text-align: right;\">\n      <th></th>\n      <th>Id</th>\n      <th>Response_Market_Index</th>\n      <th>PROD_Formula</th>\n      <th>PER_sex</th>\n      <th>PER_Sex_Second_Driver</th>\n      <th>VEH_Actual_Value</th>\n      <th>CLA_HISTORY</th>\n      <th>CLA_HISTORY_1Y</th>\n      <th>CLA_HISTORY_3Y</th>\n      <th>CLA_BM_TPL_DECLARED</th>\n      <th>...</th>\n      <th>VEH_pw_proportion</th>\n      <th>VEH_High_Risk_Vehicle</th>\n      <th>PER_previous_insurer</th>\n      <th>PER_Is_second_driver</th>\n      <th>PER_Age_oldest_child</th>\n      <th>PER_Second_Driver_Age</th>\n      <th>PER_Insured_Before</th>\n      <th>VEH_Weight</th>\n      <th>GEO_Lat</th>\n      <th>GEO_Long</th>\n    </tr>\n  </thead>\n  <tbody>\n    <tr>\n      <th>0</th>\n      <td>1638099</td>\n      <td>435.0</td>\n      <td>BASIC</td>\n      <td>2</td>\n      <td>0</td>\n      <td>4600</td>\n      <td>1</td>\n      <td>1</td>\n      <td>1</td>\n      <td>1</td>\n      <td>...</td>\n      <td>59</td>\n      <td>2</td>\n      <td>5</td>\n      <td>1</td>\n      <td>-99</td>\n      <td>-1</td>\n      <td>2</td>\n      <td>1125</td>\n      <td>-1.790876</td>\n      <td>-0.431147</td>\n    </tr>\n    <tr>\n      <th>1</th>\n      <td>1657342</td>\n      <td>609.0</td>\n      <td>FULL</td>\n      <td>1</td>\n      <td>0</td>\n      <td>68315</td>\n      <td>1</td>\n      <td>1</td>\n      <td>1</td>\n      <td>2</td>\n      <td>...</td>\n      <td>106</td>\n      <td>2</td>\n      <td>17</td>\n      <td>1</td>\n      <td>2</td>\n      <td>-1</td>\n      <td>2</td>\n      <td>1510</td>\n      <td>1.675824</td>\n      <td>-4.431147</td>\n    </tr>\n    <tr>\n      <th>2</th>\n      <td>1657529</td>\n      <td>609.0</td>\n      <td>FULL</td>\n      <td>1</td>\n      <td>0</td>\n      <td>68315</td>\n      <td>1</td>\n      <td>1</td>\n      <td>1</td>\n      <td>2</td>\n      <td>...</td>\n      <td>106</td>\n      <td>2</td>\n      <td>17</td>\n      <td>1</td>\n      <td>2</td>\n      <td>-1</td>\n      <td>2</td>\n      <td>1510</td>\n      <td>1.675824</td>\n      <td>-4.431147</td>\n    </tr>\n    <tr>\n      <th>3</th>\n      <td>1662071</td>\n      <td>404.0</td>\n      <td>FULL</td>\n      <td>1</td>\n      <td>2</td>\n      <td>11005</td>\n      <td>1</td>\n      <td>1</td>\n      <td>1</td>\n      <td>2</td>\n      <td>...</td>\n      <td>51</td>\n      <td>2</td>\n      <td>6</td>\n      <td>2</td>\n      <td>1</td>\n      <td>31</td>\n      <td>2</td>\n      <td>1170</td>\n      <td>-0.440876</td>\n      <td>1.285553</td>\n    </tr>\n    <tr>\n      <th>4</th>\n      <td>1662074</td>\n      <td>404.0</td>\n      <td>FULL</td>\n      <td>1</td>\n      <td>2</td>\n      <td>11005</td>\n      <td>1</td>\n      <td>1</td>\n      <td>1</td>\n      <td>2</td>\n      <td>...</td>\n      <td>51</td>\n      <td>2</td>\n      <td>6</td>\n      <td>2</td>\n      <td>1</td>\n      <td>31</td>\n      <td>2</td>\n      <td>1170</td>\n      <td>-0.440876</td>\n      <td>1.285553</td>\n    </tr>\n  </tbody>\n</table>\n<p>5 rows × 40 columns</p>\n</div>"
     },
     "metadata": {},
     "execution_count": 11
    }
   ],
   "source": [
    "data_train_insurance.head()"
   ]
  },
  {
   "cell_type": "code",
   "execution_count": 17,
   "metadata": {},
   "outputs": [
    {
     "output_type": "execute_result",
     "data": {
      "text/plain": [
       "Id                                 int64\n",
       "Response_Market_Index            float64\n",
       "PROD_Formula                      object\n",
       "PER_sex                            int64\n",
       "PER_Sex_Second_Driver              int64\n",
       "VEH_Actual_Value                   int64\n",
       "CLA_HISTORY                       object\n",
       "CLA_HISTORY_1Y                    object\n",
       "CLA_HISTORY_3Y                    object\n",
       "CLA_BM_TPL_DECLARED               object\n",
       "BEH_Mileage                       object\n",
       "PER_KIDS_ON_BOARD_ID              object\n",
       "VEH_Number_of_doors               object\n",
       "VEH_Top_Speed                     object\n",
       "BEH_Number_Year_Insured           object\n",
       "VEH_TransmissionId                object\n",
       "PER_Age_Main_Driver               object\n",
       "PER_License_Age_Main_Driver       object\n",
       "PER_License_Age_Second_Driver     object\n",
       "PER_Matrimonial_Status            object\n",
       "VEH_Age                           object\n",
       "VEH_Injection_Mode                object\n",
       "VEH_fuel_type                     object\n",
       "BEH_vehicule_usage                object\n",
       "VEH_Drive_type                    object\n",
       "VEH_Body                          object\n",
       "VEH_Segment                       object\n",
       "PER_Parking_Type                  object\n",
       "CLA_BM                            object\n",
       "VEH_engine_HP                     object\n",
       "VEH_pw_proportion                 object\n",
       "VEH_High_Risk_Vehicle             object\n",
       "PER_previous_insurer              object\n",
       "PER_Is_second_driver              object\n",
       "PER_Age_oldest_child              object\n",
       "PER_Second_Driver_Age             object\n",
       "PER_Insured_Before                object\n",
       "VEH_Weight                        object\n",
       "GEO_Lat                          float64\n",
       "GEO_Long                         float64\n",
       "dtype: object"
      ]
     },
     "metadata": {},
     "execution_count": 17
    }
   ],
   "source": [
    "data_train_insurance.dtypes"
   ]
  }
 ]
}